{
 "cells": [
  {
   "cell_type": "markdown",
   "metadata": {},
   "source": [
    "# Let star with the Cleaning of the dataset"
   ]
  },
  {
   "cell_type": "markdown",
   "metadata": {},
   "source": [
    "This project was extracted form the Youtube channel of [*Codificando bits*](https://www.youtube.com/watch?v=bGnD1Ki7j-g) available in spanish. The [link](https://drive.google.com/drive/folders/1b1sfWDasyhiTwkZAhRtNQ2X37eKlhOIS) for the dataset is in Google Drive."
   ]
  },
  {
   "cell_type": "markdown",
   "metadata": {},
   "source": [
    "## 1. Busisnes problem"
   ]
  },
  {
   "cell_type": "code",
   "execution_count": null,
   "metadata": {},
   "outputs": [],
   "source": []
  }
 ],
 "metadata": {
  "language_info": {
   "name": "python"
  }
 },
 "nbformat": 4,
 "nbformat_minor": 2
}
