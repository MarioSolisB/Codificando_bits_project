{
 "cells": [
  {
   "cell_type": "markdown",
   "metadata": {},
   "source": [
    "# Let star with the Cleaning of the dataset"
   ]
  },
  {
   "cell_type": "markdown",
   "metadata": {},
   "source": [
    "This project was extracted form the Youtube channel of [*Codificando bits*](https://www.youtube.com/watch?v=bGnD1Ki7j-g) available in spanish. The [link](https://drive.google.com/drive/folders/1b1sfWDasyhiTwkZAhRtNQ2X37eKlhOIS) for the dataset is in Google Drive."
   ]
  },
  {
   "cell_type": "markdown",
   "metadata": {},
   "source": [
    "## 1. Busisnes problem"
   ]
  },
  {
   "cell_type": "markdown",
   "metadata": {},
   "source": [
    "A bank contract a Markenting company, in order to contact possible clients. They had to determine if they are or are not interested in adquire a product (a fix deposit with the bank).\n",
    "\n",
    "So, What is the profile of our major or principal client?"
   ]
  },
  {
   "cell_type": "markdown",
   "metadata": {},
   "source": [
    "# 2. Dataset"
   ]
  },
  {
   "cell_type": "markdown",
   "metadata": {},
   "source": [
    "The information was recolected by the marketing company, and it can be find out in the CSV file (dataset_banco.csv)\n",
    "The specific number of our dataset. It has\n",
    "\n",
    "- 17 columns\n",
    "- 45215 rows\n",
    "\n",
    "Each register(row: the persons were contacted by the marketing companay) has 16 features (the first 16th columns) and one categorical (\"yes\" or \"no\" that depends if the person is interested to adquire the product).\n",
    "\n",
    "The 17 columns (features) are:\n",
    "\n",
    "1. \"age\":  edad (numeric)\n",
    "2. \"job\": type of work (categorical: \"admin.\", \"unknown\", \"unemployed\", \"management\", \"housemaid\", \"entrepreneur\", \"student\", \"blue-collar\",\"self-employed\", \"retired\", \"technician\", \"services\") \n",
    "3. \"marital\": civil status (categorical: \"married\", \"divorced\", \"single\")\n",
    "4. \"education\": education level (categorical: \"unknown\", \"secondary\", \"primary\", \"tertiary\")\n",
    "5. \"default\": if left to pay its obligation (categorical: \"yes\", \"no\")\n",
    "6. \"balance\": money annual balance in euros (numeric)\n",
    "7. \"housing\": Do you have a mortgage credit? (categorical: \"yes\", \"no\")\n",
    "8. \"loan\": Do you have a cosumer loans? (categorical: \"yes\", \"no\")\n",
    "9. \"contact\": medium that person was contacted (categorical: \"unknown\", \"telephone\", \"cellular\") \n",
    "10. \"day\": the last day that person was contacted (numeric)\n",
    "11. \"month\": the last month that person was contacted (categorical: \"jan\", \"feb\", \"mar\", ..., \"nov\", \"dec\")\n",
    "12. \"duration\": length of time (in seconds) of the last contact (numeric)\n",
    "13. \"campaign\": total number of times of the person was contacted during the campaing (numeric)\n",
    "14. \"pdays\": number of days elapsed after the person was being contacted before the actual campaign (numeric. -1 indica que no fue contactado previamente)\n",
    "15. \"previous\": number of times that the person had being contacted before this campaign (numeric)\n",
    "16. \"poutcome\": result of the las marketing campaign (categorical: \"unknown\", \"other\", \"failure\", \"success\")\n",
    "17. \"y\": categorical Did the client subscribe to the product (fix deposit) ?  cliente se suscribió a un depósito a término? (categorical: \"yes\", \"no\")"
   ]
  },
  {
   "cell_type": "markdown",
   "metadata": {},
   "source": [
    "# 3. Looking the dataset"
   ]
  },
  {
   "cell_type": "code",
   "execution_count": 2,
   "metadata": {},
   "outputs": [],
   "source": [
    "# Import libraries\n",
    "import pandas as pd\n",
    "import matplotlib.pyplot as plt\n",
    "import seaborn as sns"
   ]
  },
  {
   "cell_type": "code",
   "execution_count": 20,
   "metadata": {},
   "outputs": [],
   "source": [
    "# reading the data\n",
    "path = \"data\\dataset_banco.csv\"\n",
    "data = pd.read_csv(path)"
   ]
  },
  {
   "cell_type": "code",
   "execution_count": null,
   "metadata": {},
   "outputs": [],
   "source": []
  }
 ],
 "metadata": {
  "kernelspec": {
   "display_name": "Python 3",
   "language": "python",
   "name": "python3"
  },
  "language_info": {
   "codemirror_mode": {
    "name": "ipython",
    "version": 3
   },
   "file_extension": ".py",
   "mimetype": "text/x-python",
   "name": "python",
   "nbconvert_exporter": "python",
   "pygments_lexer": "ipython3",
   "version": "3.8.5"
  }
 },
 "nbformat": 4,
 "nbformat_minor": 2
}
