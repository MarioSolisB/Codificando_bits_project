{
 "cells": [
  {
   "cell_type": "markdown",
   "metadata": {},
   "source": [
    "# Data cleanning process"
   ]
  },
  {
   "cell_type": "markdown",
   "metadata": {},
   "source": [
    "This project was extracted form the Youtube channel of [*Codificando bits*](https://www.youtube.com/watch?v=bGnD1Ki7j-g) available in spanish. The [link](https://drive.google.com/drive/folders/1b1sfWDasyhiTwkZAhRtNQ2X37eKlhOIS) for the dataset is in Google Drive."
   ]
  },
  {
   "cell_type": "markdown",
   "metadata": {},
   "source": [
    "## 1. Busisness problem"
   ]
  },
  {
   "cell_type": "markdown",
   "metadata": {},
   "source": [
    "A bank contract a Markenting company, in order to contact possible clients. They had to determine if they are or are not interested in adquire a product (a fix deposit with the bank).\n",
    "\n",
    "So, What is the profile of our major or principal client?"
   ]
  },
  {
   "cell_type": "markdown",
   "metadata": {},
   "source": [
    "# 2. Dataset"
   ]
  },
  {
   "cell_type": "markdown",
   "metadata": {},
   "source": [
    "The information was recolected by the marketing company, and it can be find out in the CSV file (dataset_banco.csv)\n",
    "The specific number of our dataset. It has\n",
    "\n",
    "- 17 columns\n",
    "- 45215 rows\n",
    "\n",
    "Each register(row: the persons were contacted by the marketing companay) has 16 features (the first 16th columns) and one categorical (\"yes\" or \"no\" that depends if the person is interested to adquire the product).\n",
    "\n",
    "The 17 columns (features) are:\n",
    "\n",
    "1. \"age\":  edad (numeric)\n",
    "2. \"job\": type of work (categorical: \"admin.\", \"unknown\", \"unemployed\", \"management\", \"housemaid\", \"entrepreneur\", \"student\", \"blue-collar\",\"self-employed\", \"retired\", \"technician\", \"services\") \n",
    "3. \"marital\": civil status (categorical: \"married\", \"divorced\", \"single\")\n",
    "4. \"education\": education level (categorical: \"unknown\", \"secondary\", \"primary\", \"tertiary\")\n",
    "5. \"default\": if left to pay its obligation (categorical: \"yes\", \"no\")\n",
    "6. \"balance\": money annual balance in euros (numeric)\n",
    "7. \"housing\": Do you have a mortgage credit? (categorical: \"yes\", \"no\")\n",
    "8. \"loan\": Do you have a cosumer loans? (categorical: \"yes\", \"no\")\n",
    "9. \"contact\": medium that person was contacted (categorical: \"unknown\", \"telephone\", \"cellular\") \n",
    "10. \"day\": the last day that person was contacted (numeric)\n",
    "11. \"month\": the last month that person was contacted (categorical: \"jan\", \"feb\", \"mar\", ..., \"nov\", \"dec\")\n",
    "12. \"duration\": length of time (in seconds) of the last contact (numeric)\n",
    "13. \"campaign\": total number of times of the person was contacted during the campaing (numeric)\n",
    "14. \"pdays\": number of days elapsed after the person was being contacted before the actual campaign (numeric. -1 indica que no fue contactado previamente)\n",
    "15. \"previous\": number of times that the person had being contacted before this campaign (numeric)\n",
    "16. \"poutcome\": result of the las marketing campaign (categorical: \"unknown\", \"other\", \"failure\", \"success\")\n",
    "17. \"y\": categorical Did the client subscribe to the product (fix deposit) ?  cliente se suscribió a un depósito a término? (categorical: \"yes\", \"no\")"
   ]
  },
  {
   "cell_type": "markdown",
   "metadata": {},
   "source": [
    "# 3. Looking the dataset"
   ]
  },
  {
   "cell_type": "code",
   "execution_count": 1,
   "metadata": {},
   "outputs": [],
   "source": [
    "# Import libraries\n",
    "\n",
    "import pandas as pd\n",
    "import numpy as np\n",
    "import matplotlib.pyplot as plt\n",
    "import seaborn as sns"
   ]
  },
  {
   "cell_type": "code",
   "execution_count": 16,
   "metadata": {},
   "outputs": [],
   "source": [
    "# reading the data\n",
    "path = \"data\\dataset_banco.csv\"\n",
    "data = pd.read_csv(path)"
   ]
  },
  {
   "cell_type": "code",
   "execution_count": 3,
   "metadata": {},
   "outputs": [
    {
     "name": "stdout",
     "output_type": "stream",
     "text": [
      "(45215, 17)\n"
     ]
    },
    {
     "data": {
      "text/html": [
       "<div>\n",
       "<style scoped>\n",
       "    .dataframe tbody tr th:only-of-type {\n",
       "        vertical-align: middle;\n",
       "    }\n",
       "\n",
       "    .dataframe tbody tr th {\n",
       "        vertical-align: top;\n",
       "    }\n",
       "\n",
       "    .dataframe thead th {\n",
       "        text-align: right;\n",
       "    }\n",
       "</style>\n",
       "<table border=\"1\" class=\"dataframe\">\n",
       "  <thead>\n",
       "    <tr style=\"text-align: right;\">\n",
       "      <th></th>\n",
       "      <th>age</th>\n",
       "      <th>job</th>\n",
       "      <th>marital</th>\n",
       "      <th>education</th>\n",
       "      <th>default</th>\n",
       "      <th>balance</th>\n",
       "      <th>housing</th>\n",
       "      <th>loan</th>\n",
       "      <th>contact</th>\n",
       "      <th>day</th>\n",
       "      <th>month</th>\n",
       "      <th>duration</th>\n",
       "      <th>campaign</th>\n",
       "      <th>pdays</th>\n",
       "      <th>previous</th>\n",
       "      <th>poutcome</th>\n",
       "      <th>y</th>\n",
       "    </tr>\n",
       "  </thead>\n",
       "  <tbody>\n",
       "    <tr>\n",
       "      <th>0</th>\n",
       "      <td>58</td>\n",
       "      <td>management</td>\n",
       "      <td>married</td>\n",
       "      <td>tertiary</td>\n",
       "      <td>no</td>\n",
       "      <td>2143.0</td>\n",
       "      <td>yes</td>\n",
       "      <td>no</td>\n",
       "      <td>unknown</td>\n",
       "      <td>5</td>\n",
       "      <td>may</td>\n",
       "      <td>261.0</td>\n",
       "      <td>1</td>\n",
       "      <td>-1.0</td>\n",
       "      <td>0</td>\n",
       "      <td>unknown</td>\n",
       "      <td>no</td>\n",
       "    </tr>\n",
       "    <tr>\n",
       "      <th>1</th>\n",
       "      <td>44</td>\n",
       "      <td>technician</td>\n",
       "      <td>single</td>\n",
       "      <td>secondary</td>\n",
       "      <td>no</td>\n",
       "      <td>29.0</td>\n",
       "      <td>yes</td>\n",
       "      <td>no</td>\n",
       "      <td>unknown</td>\n",
       "      <td>5</td>\n",
       "      <td>may</td>\n",
       "      <td>151.0</td>\n",
       "      <td>1</td>\n",
       "      <td>-1.0</td>\n",
       "      <td>0</td>\n",
       "      <td>unknown</td>\n",
       "      <td>no</td>\n",
       "    </tr>\n",
       "    <tr>\n",
       "      <th>2</th>\n",
       "      <td>33</td>\n",
       "      <td>entrepreneur</td>\n",
       "      <td>married</td>\n",
       "      <td>secondary</td>\n",
       "      <td>no</td>\n",
       "      <td>2.0</td>\n",
       "      <td>yes</td>\n",
       "      <td>yes</td>\n",
       "      <td>unknown</td>\n",
       "      <td>5</td>\n",
       "      <td>may</td>\n",
       "      <td>76.0</td>\n",
       "      <td>1</td>\n",
       "      <td>-1.0</td>\n",
       "      <td>0</td>\n",
       "      <td>unknown</td>\n",
       "      <td>no</td>\n",
       "    </tr>\n",
       "    <tr>\n",
       "      <th>3</th>\n",
       "      <td>47</td>\n",
       "      <td>blue-collar</td>\n",
       "      <td>married</td>\n",
       "      <td>unknown</td>\n",
       "      <td>no</td>\n",
       "      <td>1506.0</td>\n",
       "      <td>yes</td>\n",
       "      <td>no</td>\n",
       "      <td>unknown</td>\n",
       "      <td>5</td>\n",
       "      <td>may</td>\n",
       "      <td>92.0</td>\n",
       "      <td>1</td>\n",
       "      <td>-1.0</td>\n",
       "      <td>0</td>\n",
       "      <td>unknown</td>\n",
       "      <td>no</td>\n",
       "    </tr>\n",
       "    <tr>\n",
       "      <th>4</th>\n",
       "      <td>33</td>\n",
       "      <td>unknown</td>\n",
       "      <td>single</td>\n",
       "      <td>unknown</td>\n",
       "      <td>no</td>\n",
       "      <td>1.0</td>\n",
       "      <td>no</td>\n",
       "      <td>no</td>\n",
       "      <td>unknown</td>\n",
       "      <td>5</td>\n",
       "      <td>may</td>\n",
       "      <td>198.0</td>\n",
       "      <td>1</td>\n",
       "      <td>-1.0</td>\n",
       "      <td>0</td>\n",
       "      <td>unknown</td>\n",
       "      <td>no</td>\n",
       "    </tr>\n",
       "  </tbody>\n",
       "</table>\n",
       "</div>"
      ],
      "text/plain": [
       "   age           job  marital  education default  balance housing loan  \\\n",
       "0   58    management  married   tertiary      no   2143.0     yes   no   \n",
       "1   44    technician   single  secondary      no     29.0     yes   no   \n",
       "2   33  entrepreneur  married  secondary      no      2.0     yes  yes   \n",
       "3   47   blue-collar  married    unknown      no   1506.0     yes   no   \n",
       "4   33       unknown   single    unknown      no      1.0      no   no   \n",
       "\n",
       "   contact  day month  duration  campaign  pdays  previous poutcome   y  \n",
       "0  unknown    5   may     261.0         1   -1.0         0  unknown  no  \n",
       "1  unknown    5   may     151.0         1   -1.0         0  unknown  no  \n",
       "2  unknown    5   may      76.0         1   -1.0         0  unknown  no  \n",
       "3  unknown    5   may      92.0         1   -1.0         0  unknown  no  \n",
       "4  unknown    5   may     198.0         1   -1.0         0  unknown  no  "
      ]
     },
     "execution_count": 3,
     "metadata": {},
     "output_type": "execute_result"
    }
   ],
   "source": [
    "# some general characteristic\n",
    "\n",
    "print(data.shape) # give us the number of \"(rows, columns)\"\n",
    "data.head() # give us the first 5 rows "
   ]
  },
  {
   "cell_type": "code",
   "execution_count": 4,
   "metadata": {},
   "outputs": [
    {
     "name": "stdout",
     "output_type": "stream",
     "text": [
      "<class 'pandas.core.frame.DataFrame'>\n",
      "RangeIndex: 45215 entries, 0 to 45214\n",
      "Data columns (total 17 columns):\n",
      " #   Column     Non-Null Count  Dtype  \n",
      "---  ------     --------------  -----  \n",
      " 0   age        45215 non-null  int64  \n",
      " 1   job        45213 non-null  object \n",
      " 2   marital    45214 non-null  object \n",
      " 3   education  45214 non-null  object \n",
      " 4   default    45215 non-null  object \n",
      " 5   balance    45213 non-null  float64\n",
      " 6   housing    45215 non-null  object \n",
      " 7   loan       45215 non-null  object \n",
      " 8   contact    45215 non-null  object \n",
      " 9   day        45215 non-null  int64  \n",
      " 10  month      45215 non-null  object \n",
      " 11  duration   45214 non-null  float64\n",
      " 12  campaign   45215 non-null  int64  \n",
      " 13  pdays      45214 non-null  float64\n",
      " 14  previous   45215 non-null  int64  \n",
      " 15  poutcome   45215 non-null  object \n",
      " 16  y          45215 non-null  object \n",
      "dtypes: float64(3), int64(4), object(10)\n",
      "memory usage: 5.9+ MB\n"
     ]
    }
   ],
   "source": [
    "# See the categorical or numeric variables\n",
    "\n",
    "data.info()"
   ]
  },
  {
   "cell_type": "markdown",
   "metadata": {},
   "source": [
    "# 4. Cleanning"
   ]
  },
  {
   "cell_type": "markdown",
   "metadata": {},
   "source": [
    "Now we are doing the cleanning of the dataset, we can be some possible situation\n",
    "\n",
    "1. Some missing data in some shel\n",
    "2. Some irrelevant columns (that depends on the problem to solve)\n",
    "3. Some repeated rows\n",
    "4. Some extreme values (outliers), only for numerical values. We need to analize in detail how to resolve them.\n",
    "5. Some typos in the categorical variables\n",
    "\n",
    "After this process, we will have a clean dataset that it is ready to do the EDA (exploratory data analysis)"
   ]
  },
  {
   "cell_type": "markdown",
   "metadata": {},
   "source": [
    "## 4.1 Missing data"
   ]
  },
  {
   "cell_type": "markdown",
   "metadata": {},
   "source": [
    "First, we remind the information of the dataset"
   ]
  },
  {
   "cell_type": "code",
   "execution_count": 17,
   "metadata": {},
   "outputs": [
    {
     "name": "stdout",
     "output_type": "stream",
     "text": [
      "(45215, 17)\n",
      "<class 'pandas.core.frame.DataFrame'>\n",
      "RangeIndex: 45215 entries, 0 to 45214\n",
      "Data columns (total 17 columns):\n",
      " #   Column     Non-Null Count  Dtype  \n",
      "---  ------     --------------  -----  \n",
      " 0   age        45215 non-null  int64  \n",
      " 1   job        45213 non-null  object \n",
      " 2   marital    45214 non-null  object \n",
      " 3   education  45214 non-null  object \n",
      " 4   default    45215 non-null  object \n",
      " 5   balance    45213 non-null  float64\n",
      " 6   housing    45215 non-null  object \n",
      " 7   loan       45215 non-null  object \n",
      " 8   contact    45215 non-null  object \n",
      " 9   day        45215 non-null  int64  \n",
      " 10  month      45215 non-null  object \n",
      " 11  duration   45214 non-null  float64\n",
      " 12  campaign   45215 non-null  int64  \n",
      " 13  pdays      45214 non-null  float64\n",
      " 14  previous   45215 non-null  int64  \n",
      " 15  poutcome   45215 non-null  object \n",
      " 16  y          45215 non-null  object \n",
      "dtypes: float64(3), int64(4), object(10)\n",
      "memory usage: 5.9+ MB\n"
     ]
    }
   ],
   "source": [
    "# Information of data\n",
    "\n",
    "print(data.shape)\n",
    "data.info()"
   ]
  },
  {
   "cell_type": "markdown",
   "metadata": {},
   "source": [
    "As we can see, the dataset contains 45215 rows. But, the info showed, for example for the columns: *job*, *marital*, *education*, *balance*, *duration* and *pdays* have a few number of rows missed!\n",
    "\n",
    "However, the info could not show the all missed quantities. For a complete, we need to be sure if there are some \"NaN\" values. For this propouse we use the next line:"
   ]
  },
  {
   "cell_type": "code",
   "execution_count": 18,
   "metadata": {},
   "outputs": [
    {
     "name": "stdout",
     "output_type": "stream",
     "text": [
      "True\n"
     ]
    }
   ],
   "source": [
    "# check NaN values\n",
    "\n",
    "check_nan_in_data = data.isnull().values.any()\n",
    "print(check_nan_in_data)"
   ]
  },
  {
   "cell_type": "markdown",
   "metadata": {},
   "source": [
    "So we have \"NaN\" values inside the dataset! We must count them. We use the next code"
   ]
  },
  {
   "cell_type": "code",
   "execution_count": 19,
   "metadata": {},
   "outputs": [
    {
     "name": "stdout",
     "output_type": "stream",
     "text": [
      "8\n"
     ]
    }
   ],
   "source": [
    "# Count NaN values\n",
    "\n",
    "count_nan_values_in_data = data.isnull().sum().sum()\n",
    "print(count_nan_values_in_data)"
   ]
  },
  {
   "cell_type": "markdown",
   "metadata": {},
   "source": [
    "And the NaN values by column"
   ]
  },
  {
   "cell_type": "code",
   "execution_count": 9,
   "metadata": {},
   "outputs": [
    {
     "data": {
      "text/plain": [
       "age          0\n",
       "job          2\n",
       "marital      1\n",
       "education    1\n",
       "default      0\n",
       "balance      2\n",
       "housing      0\n",
       "loan         0\n",
       "contact      0\n",
       "day          0\n",
       "month        0\n",
       "duration     1\n",
       "campaign     0\n",
       "pdays        1\n",
       "previous     0\n",
       "poutcome     0\n",
       "y            0\n",
       "dtype: int64"
      ]
     },
     "execution_count": 9,
     "metadata": {},
     "output_type": "execute_result"
    }
   ],
   "source": [
    "# Count NaN values by column\n",
    "\n",
    "data.isnull().sum()"
   ]
  },
  {
   "cell_type": "markdown",
   "metadata": {},
   "source": [
    "Finally, we see that those rows to be eliminate are not the same! So, in total, is correct to eliminate 8 columns. But, they were a few data missed, we decided to eliminate each corresponded rows:"
   ]
  },
  {
   "cell_type": "code",
   "execution_count": 20,
   "metadata": {},
   "outputs": [
    {
     "name": "stdout",
     "output_type": "stream",
     "text": [
      "<class 'pandas.core.frame.DataFrame'>\n",
      "Int64Index: 45207 entries, 0 to 45214\n",
      "Data columns (total 17 columns):\n",
      " #   Column     Non-Null Count  Dtype  \n",
      "---  ------     --------------  -----  \n",
      " 0   age        45207 non-null  int64  \n",
      " 1   job        45207 non-null  object \n",
      " 2   marital    45207 non-null  object \n",
      " 3   education  45207 non-null  object \n",
      " 4   default    45207 non-null  object \n",
      " 5   balance    45207 non-null  float64\n",
      " 6   housing    45207 non-null  object \n",
      " 7   loan       45207 non-null  object \n",
      " 8   contact    45207 non-null  object \n",
      " 9   day        45207 non-null  int64  \n",
      " 10  month      45207 non-null  object \n",
      " 11  duration   45207 non-null  float64\n",
      " 12  campaign   45207 non-null  int64  \n",
      " 13  pdays      45207 non-null  float64\n",
      " 14  previous   45207 non-null  int64  \n",
      " 15  poutcome   45207 non-null  object \n",
      " 16  y          45207 non-null  object \n",
      "dtypes: float64(3), int64(4), object(10)\n",
      "memory usage: 6.2+ MB\n"
     ]
    }
   ],
   "source": [
    "# Eliminate rows of missed values\n",
    "\n",
    "data.dropna(inplace=True)   #Eliminate the all row. \"inplace=True\", means that the rewrite over \"data\"\n",
    "data.info()"
   ]
  },
  {
   "cell_type": "markdown",
   "metadata": {},
   "source": [
    "now, all the columns have 45207 rows. "
   ]
  },
  {
   "cell_type": "markdown",
   "metadata": {},
   "source": [
    "## 4.2 Irrelevant columns"
   ]
  },
  {
   "cell_type": "markdown",
   "metadata": {},
   "source": [
    "An irrelevant column could be:\n",
    "\n",
    "- A column **that has non-relevant information to solve this problem**. For example, in this case, they might be columns that are not related  with the possible client's profile (favorite sports, hobbie, favorite food, etc).\n",
    "- **A categorical column with just one level**. For example, if the column \"job\" has one level: \"unknown\".\n",
    "- **A numerical column with hist one value**. For example, if the column \"age\" have all equal values: \"50\".\n",
    "- **Columns with redundant information**. For example, if in addition of the columns \"month\" and \"day\", we might have \"month-day\", it is a result of combine the previous two columns.\n",
    "\n",
    "If we have doubts if some column might be relevant or not, the optimal option is **not** discarded (in below steps, we be able to know  if them could be preseve or not).\n",
    "\n",
    "In this case, all the columns could be relevant in this problem. But we must check if some categorical column have just one level or a categorical column with one value."
   ]
  },
  {
   "cell_type": "code",
   "execution_count": 12,
   "metadata": {},
   "outputs": [
    {
     "name": "stdout",
     "output_type": "stream",
     "text": [
      "Column job: 18 sublevel\n",
      "Column marital: 6 sublevel\n",
      "Column education: 10 sublevel\n",
      "Column default: 2 sublevel\n",
      "Column housing: 2 sublevel\n",
      "Column loan: 6 sublevel\n",
      "Column contact: 5 sublevel\n",
      "Column month: 12 sublevel\n",
      "Column poutcome: 6 sublevel\n",
      "Column y: 2 sublevel\n"
     ]
    }
   ],
   "source": [
    "# Count of level for categorical columns\n",
    "\n",
    "cols_cat = ['job', 'marital', 'education', 'default', 'housing', 'loan', 'contact', 'month', 'poutcome', 'y']\n",
    "\n",
    "for col in cols_cat:\n",
    "    print(f'Column {col}: {data[col].nunique()} sublevel')"
   ]
  },
  {
   "cell_type": "markdown",
   "metadata": {},
   "source": [
    "As we can appreciate, all the colums have more thant two levels. So, we must not eliminate nothing.\n",
    "\n",
    "Now we check the numerical columns:"
   ]
  },
  {
   "cell_type": "code",
   "execution_count": 13,
   "metadata": {},
   "outputs": [
    {
     "data": {
      "text/html": [
       "<div>\n",
       "<style scoped>\n",
       "    .dataframe tbody tr th:only-of-type {\n",
       "        vertical-align: middle;\n",
       "    }\n",
       "\n",
       "    .dataframe tbody tr th {\n",
       "        vertical-align: top;\n",
       "    }\n",
       "\n",
       "    .dataframe thead th {\n",
       "        text-align: right;\n",
       "    }\n",
       "</style>\n",
       "<table border=\"1\" class=\"dataframe\">\n",
       "  <thead>\n",
       "    <tr style=\"text-align: right;\">\n",
       "      <th></th>\n",
       "      <th>age</th>\n",
       "      <th>balance</th>\n",
       "      <th>day</th>\n",
       "      <th>duration</th>\n",
       "      <th>campaign</th>\n",
       "      <th>pdays</th>\n",
       "      <th>previous</th>\n",
       "    </tr>\n",
       "  </thead>\n",
       "  <tbody>\n",
       "    <tr>\n",
       "      <th>count</th>\n",
       "      <td>45207.000000</td>\n",
       "      <td>45207.000000</td>\n",
       "      <td>45207.000000</td>\n",
       "      <td>45207.000000</td>\n",
       "      <td>45207.000000</td>\n",
       "      <td>45207.000000</td>\n",
       "      <td>45207.000000</td>\n",
       "    </tr>\n",
       "    <tr>\n",
       "      <th>mean</th>\n",
       "      <td>41.005596</td>\n",
       "      <td>1374.201318</td>\n",
       "      <td>15.806534</td>\n",
       "      <td>258.032539</td>\n",
       "      <td>2.763731</td>\n",
       "      <td>40.178225</td>\n",
       "      <td>0.580198</td>\n",
       "    </tr>\n",
       "    <tr>\n",
       "      <th>std</th>\n",
       "      <td>12.037399</td>\n",
       "      <td>3924.491665</td>\n",
       "      <td>8.323015</td>\n",
       "      <td>257.460759</td>\n",
       "      <td>3.098058</td>\n",
       "      <td>100.103283</td>\n",
       "      <td>2.303341</td>\n",
       "    </tr>\n",
       "    <tr>\n",
       "      <th>min</th>\n",
       "      <td>18.000000</td>\n",
       "      <td>-8019.000000</td>\n",
       "      <td>1.000000</td>\n",
       "      <td>-1389.000000</td>\n",
       "      <td>1.000000</td>\n",
       "      <td>-1.000000</td>\n",
       "      <td>0.000000</td>\n",
       "    </tr>\n",
       "    <tr>\n",
       "      <th>25%</th>\n",
       "      <td>33.000000</td>\n",
       "      <td>72.000000</td>\n",
       "      <td>8.000000</td>\n",
       "      <td>103.000000</td>\n",
       "      <td>1.000000</td>\n",
       "      <td>-1.000000</td>\n",
       "      <td>0.000000</td>\n",
       "    </tr>\n",
       "    <tr>\n",
       "      <th>50%</th>\n",
       "      <td>39.000000</td>\n",
       "      <td>448.000000</td>\n",
       "      <td>16.000000</td>\n",
       "      <td>180.000000</td>\n",
       "      <td>2.000000</td>\n",
       "      <td>-1.000000</td>\n",
       "      <td>0.000000</td>\n",
       "    </tr>\n",
       "    <tr>\n",
       "      <th>75%</th>\n",
       "      <td>48.000000</td>\n",
       "      <td>1427.500000</td>\n",
       "      <td>21.000000</td>\n",
       "      <td>319.000000</td>\n",
       "      <td>3.000000</td>\n",
       "      <td>-1.000000</td>\n",
       "      <td>0.000000</td>\n",
       "    </tr>\n",
       "    <tr>\n",
       "      <th>max</th>\n",
       "      <td>776.000000</td>\n",
       "      <td>527532.000000</td>\n",
       "      <td>31.000000</td>\n",
       "      <td>4918.000000</td>\n",
       "      <td>63.000000</td>\n",
       "      <td>871.000000</td>\n",
       "      <td>275.000000</td>\n",
       "    </tr>\n",
       "  </tbody>\n",
       "</table>\n",
       "</div>"
      ],
      "text/plain": [
       "                age        balance           day      duration      campaign  \\\n",
       "count  45207.000000   45207.000000  45207.000000  45207.000000  45207.000000   \n",
       "mean      41.005596    1374.201318     15.806534    258.032539      2.763731   \n",
       "std       12.037399    3924.491665      8.323015    257.460759      3.098058   \n",
       "min       18.000000   -8019.000000      1.000000  -1389.000000      1.000000   \n",
       "25%       33.000000      72.000000      8.000000    103.000000      1.000000   \n",
       "50%       39.000000     448.000000     16.000000    180.000000      2.000000   \n",
       "75%       48.000000    1427.500000     21.000000    319.000000      3.000000   \n",
       "max      776.000000  527532.000000     31.000000   4918.000000     63.000000   \n",
       "\n",
       "              pdays      previous  \n",
       "count  45207.000000  45207.000000  \n",
       "mean      40.178225      0.580198  \n",
       "std      100.103283      2.303341  \n",
       "min       -1.000000      0.000000  \n",
       "25%       -1.000000      0.000000  \n",
       "50%       -1.000000      0.000000  \n",
       "75%       -1.000000      0.000000  \n",
       "max      871.000000    275.000000  "
      ]
     },
     "execution_count": 13,
     "metadata": {},
     "output_type": "execute_result"
    }
   ],
   "source": [
    "# How to see numerical columns\n",
    "\n",
    "data.describe() # if the standard deviation \"std\" are zero, this means that all values in this columns are equal!"
   ]
  },
  {
   "cell_type": "markdown",
   "metadata": {},
   "source": [
    "We see the standard deviatio *\"std\"* are different of zero, so this means that all columns have different values.\n",
    "\n",
    "Therefore, we preserve all the numerical values."
   ]
  },
  {
   "cell_type": "markdown",
   "metadata": {},
   "source": [
    "## 4.3 Repeated rows"
   ]
  },
  {
   "cell_type": "code",
   "execution_count": 21,
   "metadata": {},
   "outputs": [
    {
     "name": "stdout",
     "output_type": "stream",
     "text": [
      "Size of the set before eliminate the repeated rows: (45207, 17)\n",
      "Size of the set after eliminate the repeated rows: (45203, 17)\n"
     ]
    }
   ],
   "source": [
    "print(f'Size of the set before eliminate the repeated rows: {data.shape}')\n",
    "data.drop_duplicates(inplace=True)\n",
    "\n",
    "print(f'Size of the set after eliminate the repeated rows: {data.shape}')"
   ]
  },
  {
   "cell_type": "markdown",
   "metadata": {},
   "source": [
    "this cleanning, reduce only 3 rows!."
   ]
  },
  {
   "cell_type": "markdown",
   "metadata": {},
   "source": [
    "## 4.4 Outliers for numerical variables"
   ]
  },
  {
   "cell_type": "markdown",
   "metadata": {},
   "source": [
    "**Not in all cases, we have to eliminate the outliers**, because it someimes contains some important information.\n",
    "\n",
    "Now we create some plot like \"boxplot\" of numerical columns:"
   ]
  },
  {
   "cell_type": "code",
   "execution_count": 22,
   "metadata": {},
   "outputs": [
    {
     "data": {
      "image/png": "[encoded data removed]",
      "text/plain": [
       "<Figure size 800x3000 with 7 Axes>"
      ]
     },
     "metadata": {},
     "output_type": "display_data"
    }
   ],
   "source": [
    "# Generate individual plot for the numerical variables, they are in different ranges\n",
    "\n",
    "cols_num = ['age', 'balance', 'day', 'duration', 'campaign', 'pdays', 'previous']\n",
    "\n",
    "fig, ax = plt.subplots(nrows=7, ncols=1, figsize=(8,30))\n",
    "fig.subplots_adjust(hspace=0.5)\n",
    "\n",
    "for i, col in enumerate(cols_num):\n",
    "    sns.boxplot(x=col, data=data, ax=ax[i]) # \"boxplot\" can allow us to see the outliers points\n",
    "    ax[i].set_title(col)"
   ]
  },
  {
   "cell_type": "markdown",
   "metadata": {},
   "source": [
    "**Observations**\n",
    "- 'age': there are people with ages greater than 100 years old.\n",
    "- 'duration': there are negative values (in seconds); these make not sense.\n",
    "- 'previous': there is a extreme value (close to 300)"
   ]
  },
  {
   "cell_type": "code",
   "execution_count": 23,
   "metadata": {},
   "outputs": [
    {
     "name": "stdout",
     "output_type": "stream",
     "text": [
      "Size of the dataset before eliminate the rows of **age** : (45203, 17)\n",
      "Size of the datase after eliminate the rows of **age** : (45195, 17)\n"
     ]
    }
   ],
   "source": [
    "# Eliminate the age rows with 'age'>100\n",
    "\n",
    "print(f'Size of the dataset before eliminate the rows of age : {data.shape}')\n",
    "data = data[data['age']<=100]\n",
    "print(f'Size of the datase after eliminate the rows of age : {data.shape}')"
   ]
  },
  {
   "cell_type": "code",
   "execution_count": 25,
   "metadata": {},
   "outputs": [
    {
     "name": "stdout",
     "output_type": "stream",
     "text": [
      "Size of the dataset before eliminate the rows of duration: (45194, 17)\n",
      "Size of the dataset after eliminate the rows of duration: (45189, 17)\n"
     ]
    }
   ],
   "source": [
    "# Eliminate the rows with 'duration'<0\n",
    "\n",
    "print(f'Size of the dataset before eliminate the rows of duration: {data.shape}')\n",
    "data = data[data['duration']>0] # We preserve the values that greater of 0\n",
    "print(f'Size of the dataset after eliminate the rows of duration: {data.shape}')"
   ]
  },
  {
   "cell_type": "code",
   "execution_count": 26,
   "metadata": {},
   "outputs": [
    {
     "name": "stdout",
     "output_type": "stream",
     "text": [
      "Size of the dataset before eliminate the rows of previous: (45189, 17)\n",
      "Size of the dataset after eliminate the rows of previous: (45189, 17)\n"
     ]
    }
   ],
   "source": [
    "# Eliminate the rows with 'previous'>100\n",
    "\n",
    "print(f'Size of the dataset before eliminate the rows of previous: {data.shape}')\n",
    "data = data[data['previous']<=100] # We preserve the values that lower of 100\n",
    "print(f'Size of the dataset after eliminate the rows of previous: {data.shape}')"
   ]
  },
  {
   "cell_type": "markdown",
   "metadata": {},
   "source": [
    "## 4.5 Typos of categorical variables"
   ]
  },
  {
   "cell_type": "markdown",
   "metadata": {},
   "source": [
    "In a categorical variable, we can find some sub-level as \"unknown\" and \"UNK\", for us, these values are the same but in our program are different."
   ]
  },
  {
   "cell_type": "markdown",
   "metadata": {},
   "source": []
  }
 ],
 "metadata": {
  "kernelspec": {
   "display_name": "Python 3",
   "language": "python",
   "name": "python3"
  },
  "language_info": {
   "codemirror_mode": {
    "name": "ipython",
    "version": 3
   },
   "file_extension": ".py",
   "mimetype": "text/x-python",
   "name": "python",
   "nbconvert_exporter": "python",
   "pygments_lexer": "ipython3",
   "version": "3.8.5"
  }
 },
 "nbformat": 4,
 "nbformat_minor": 2
}
